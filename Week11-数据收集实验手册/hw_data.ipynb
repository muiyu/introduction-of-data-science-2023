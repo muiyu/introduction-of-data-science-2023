{
 "cells": [
  {
   "cell_type": "markdown",
   "metadata": {},
   "source": [
    "# 题目\n",
    "### 查询自己所有关注者的仓库的数据，并保存"
   ]
  },
  {
   "cell_type": "markdown",
   "metadata": {},
   "source": [
    "根据文档内容，我们使用`PyGithub`库可以简便地调用Github的API完成对应操作。"
   ]
  },
  {
   "cell_type": "markdown",
   "metadata": {},
   "source": [
    "首先，从工作目录中加载`.env`文件中设定的token。以下代码的工作目录应根据`.env`文件位置的不同而更改。这样确保了项目贡献者的个人token的安全，防止其因疏忽而意外上传自己的token。"
   ]
  },
  {
   "cell_type": "code",
   "execution_count": 1,
   "metadata": {},
   "outputs": [
    {
     "data": {
      "text/plain": [
       "True"
      ]
     },
     "execution_count": 1,
     "metadata": {},
     "output_type": "execute_result"
    }
   ],
   "source": [
    "from dotenv import load_dotenv\n",
    "load_dotenv('.env')"
   ]
  },
  {
   "cell_type": "markdown",
   "metadata": {},
   "source": [
    "结果为`True`，表明已成功将`.env`中的内容添加至环境变量。此时我们再从环境变量中加载token的值。"
   ]
  },
  {
   "cell_type": "code",
   "execution_count": 2,
   "metadata": {},
   "outputs": [],
   "source": [
    "import os\n",
    "token = os.getenv(\"TOKEN\")"
   ]
  },
  {
   "cell_type": "markdown",
   "metadata": {},
   "source": [
    "接下来进行简单的测试。先看看能否获取当前关注我的用户。"
   ]
  },
  {
   "cell_type": "code",
   "execution_count": 15,
   "metadata": {},
   "outputs": [
    {
     "name": "stdout",
     "output_type": "stream",
     "text": [
      "tyn1998\n",
      "Floyed11\n"
     ]
    }
   ],
   "source": [
    "from github import Github\n",
    "\n",
    "# 创建Github实例并使用您的API令牌进行身份验证\n",
    "g = Github(token)\n",
    "\n",
    "# 获取当前API用户\n",
    "user = g.get_user()\n",
    "\n",
    "# 获取关注当前用户的用户列表\n",
    "followers = user.get_followers()\n",
    "\n",
    "for follower in followers:\n",
    "    print(follower.login)"
   ]
  },
  {
   "cell_type": "markdown",
   "metadata": {},
   "source": [
    "可以成功获取，接下来便获取这些用户的所有仓库并保存。"
   ]
  },
  {
   "cell_type": "code",
   "execution_count": 16,
   "metadata": {},
   "outputs": [
    {
     "name": "stdout",
     "output_type": "stream",
     "text": [
      "数据已保存到 followers_repos.csv 文件中。\n"
     ]
    }
   ],
   "source": [
    "import csv\n",
    "\n",
    "with open(\"my_followers_repos.csv\", \"w\", newline=\"\") as file:\n",
    "    writer = csv.writer(file)\n",
    "    writer.writerow([\"Follower\", \"Repository\"])\n",
    "\n",
    "    # 遍历关注者列表\n",
    "    for follower in followers:\n",
    "        repos = follower.get_repos()\n",
    "        for repo in repos:\n",
    "            writer.writerow([follower.login, repo.name])\n",
    "\n",
    "print(\"数据已保存到 followers_repos.csv 文件中。\")"
   ]
  },
  {
   "cell_type": "markdown",
   "metadata": {},
   "source": [
    "保存成功。具体数据内容可以查看该目录文件下的`my_followers_repo.csv`文件。"
   ]
  }
 ],
 "metadata": {
  "kernelspec": {
   "display_name": "Python 3",
   "language": "python",
   "name": "python3"
  },
  "language_info": {
   "codemirror_mode": {
    "name": "ipython",
    "version": 3
   },
   "file_extension": ".py",
   "mimetype": "text/x-python",
   "name": "python",
   "nbconvert_exporter": "python",
   "pygments_lexer": "ipython3",
   "version": "3.10.11"
  }
 },
 "nbformat": 4,
 "nbformat_minor": 2
}
